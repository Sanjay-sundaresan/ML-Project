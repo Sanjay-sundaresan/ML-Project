{
  "nbformat": 4,
  "nbformat_minor": 0,
  "metadata": {
    "colab": {
      "name": "ML_Project.ipynb",
      "provenance": [],
      "authorship_tag": "ABX9TyMA316WqmMoeLyswrK0eDmL",
      "include_colab_link": true
    },
    "kernelspec": {
      "name": "python3",
      "display_name": "Python 3"
    },
    "language_info": {
      "name": "python"
    }
  },
  "cells": [
    {
      "cell_type": "markdown",
      "metadata": {
        "id": "view-in-github",
        "colab_type": "text"
      },
      "source": [
        "<a href=\"https://colab.research.google.com/github/Sanjay-sundaresan/ML-Project/blob/main/ML_Project.ipynb\" target=\"_parent\"><img src=\"https://colab.research.google.com/assets/colab-badge.svg\" alt=\"Open In Colab\"/></a>"
      ]
    },
    {
      "cell_type": "markdown",
      "metadata": {
        "id": "S1WWE_D16nlz"
      },
      "source": [
        "Relationship between imbalance and overlapping of datasets - Imbalance and overlapping are considered together and treated as a single issue. "
      ]
    },
    {
      "cell_type": "code",
      "metadata": {
        "id": "vvu3-vJGEZ3R"
      },
      "source": [
        "import pandas as pd\n",
        "import numpy as np\n",
        "import matplotlib.pyplot as plt\n",
        "from sklearn.decomposition import PCA\n",
        "from sklearn.preprocessing import StandardScaler\n",
        "from sklearn.preprocessing import MinMaxScaler\n",
        "from sklearn.model_selection import KFold \n",
        "from sklearn.metrics import classification_report\n",
        "from sklearn import metrics\n",
        "from sklearn import svm \n",
        "from sklearn.model_selection import cross_val_score\n",
        "from numpy import mean"
      ],
      "execution_count": null,
      "outputs": []
    },
    {
      "cell_type": "code",
      "metadata": {
        "colab": {
          "base_uri": "https://localhost:8080/"
        },
        "id": "5nTDuW7UE0fS",
        "outputId": "ae2bf058-88a9-432e-ba6f-a0dd6dc2f90d"
      },
      "source": [
        "from google.colab import drive\n",
        "drive.mount(\"/content/gdrive\")"
      ],
      "execution_count": null,
      "outputs": [
        {
          "output_type": "stream",
          "name": "stdout",
          "text": [
            "Mounted at /content/gdrive\n"
          ]
        }
      ]
    },
    {
      "cell_type": "markdown",
      "metadata": {
        "id": "lJTaTtrfIMwI"
      },
      "source": [
        "Reading Synthetically generated Datasets"
      ]
    },
    {
      "cell_type": "code",
      "metadata": {
        "id": "MSBK4r0xG-bS"
      },
      "source": [
        "unbalanced_3F_overlap = pd.read_csv(\"/content/gdrive/My Drive/ML_DATA/unbalanced-3-F-overlaple.csv\")"
      ],
      "execution_count": null,
      "outputs": []
    },
    {
      "cell_type": "code",
      "metadata": {
        "id": "vTQ4JgG8HjQ7"
      },
      "source": [
        "unbalanced_allF_overlap = pd.read_csv(\"/content/gdrive/My Drive/ML_DATA/unbalanced-all-F-overlap.csv\")"
      ],
      "execution_count": null,
      "outputs": []
    },
    {
      "cell_type": "code",
      "metadata": {
        "id": "bLJS8zezH9Sb"
      },
      "source": [
        "unbalanced_noF_overlap = pd.read_csv(\"/content/gdrive/My Drive/ML_DATA/unbalanced-no-F-overlap.csv\")"
      ],
      "execution_count": null,
      "outputs": []
    },
    {
      "cell_type": "code",
      "metadata": {
        "id": "AG4XWKEcIL76"
      },
      "source": [
        "unbalanced_1F_overlap = pd.read_csv(\"/content/gdrive/My Drive/ML_DATA/unbalanced-one-F-overlap.csv\")"
      ],
      "execution_count": null,
      "outputs": []
    },
    {
      "cell_type": "code",
      "metadata": {
        "id": "4Dq6MNXTIwgr"
      },
      "source": [
        "Balanced_2F_overlap = pd.read_csv(\"/content/gdrive/My Drive/ML_DATA/Balanced-2-F-overlap.csv\")"
      ],
      "execution_count": null,
      "outputs": []
    },
    {
      "cell_type": "code",
      "metadata": {
        "id": "BW6ywmXVI8Qy"
      },
      "source": [
        "Balanced_3F_overlap = pd.read_csv(\"/content/gdrive/My Drive/ML_DATA/Balanced-3-F-overlap.csv\")"
      ],
      "execution_count": null,
      "outputs": []
    },
    {
      "cell_type": "code",
      "metadata": {
        "id": "Psw9QM5JJLfD"
      },
      "source": [
        "Balanced_AllF_overlap = pd.read_csv(\"/content/gdrive/My Drive/ML_DATA/Balanced-All-F-overlap.csv\")"
      ],
      "execution_count": null,
      "outputs": []
    },
    {
      "cell_type": "code",
      "metadata": {
        "id": "2dq55L2LJWxb"
      },
      "source": [
        "Balanced_noF_overlap = pd.read_csv(\"/content/gdrive/My Drive/ML_DATA/Balanced-no-F-overlap.csv\")"
      ],
      "execution_count": null,
      "outputs": []
    },
    {
      "cell_type": "code",
      "metadata": {
        "id": "GRxbQAhiJixj"
      },
      "source": [
        "Balanced_oneF_overlap = pd.read_csv(\"/content/gdrive/My Drive/ML_DATA/Balanced-one-F-overlap.csv\")"
      ],
      "execution_count": null,
      "outputs": []
    },
    {
      "cell_type": "markdown",
      "metadata": {
        "id": "KnwDNKeOLkvk"
      },
      "source": [
        "1. Consistency analysis of balanced dataset with all 4 features overlapping"
      ]
    },
    {
      "cell_type": "code",
      "metadata": {
        "colab": {
          "base_uri": "https://localhost:8080/",
          "height": 297
        },
        "id": "t9_5wUKSLz0x",
        "outputId": "a306622d-5cdc-459e-a296-53408117b777"
      },
      "source": [
        "Balanced_AllF_overlap.describe()"
      ],
      "execution_count": null,
      "outputs": [
        {
          "output_type": "execute_result",
          "data": {
            "text/html": [
              "<div>\n",
              "<style scoped>\n",
              "    .dataframe tbody tr th:only-of-type {\n",
              "        vertical-align: middle;\n",
              "    }\n",
              "\n",
              "    .dataframe tbody tr th {\n",
              "        vertical-align: top;\n",
              "    }\n",
              "\n",
              "    .dataframe thead th {\n",
              "        text-align: right;\n",
              "    }\n",
              "</style>\n",
              "<table border=\"1\" class=\"dataframe\">\n",
              "  <thead>\n",
              "    <tr style=\"text-align: right;\">\n",
              "      <th></th>\n",
              "      <th>X1</th>\n",
              "      <th>X2</th>\n",
              "      <th>X3</th>\n",
              "      <th>X4</th>\n",
              "      <th>Y</th>\n",
              "    </tr>\n",
              "  </thead>\n",
              "  <tbody>\n",
              "    <tr>\n",
              "      <th>count</th>\n",
              "      <td>300.000000</td>\n",
              "      <td>300.000000</td>\n",
              "      <td>300.000000</td>\n",
              "      <td>300.000000</td>\n",
              "      <td>300.000000</td>\n",
              "    </tr>\n",
              "    <tr>\n",
              "      <th>mean</th>\n",
              "      <td>0.984215</td>\n",
              "      <td>0.997026</td>\n",
              "      <td>0.975882</td>\n",
              "      <td>1.009829</td>\n",
              "      <td>0.500000</td>\n",
              "    </tr>\n",
              "    <tr>\n",
              "      <th>std</th>\n",
              "      <td>0.269708</td>\n",
              "      <td>0.218569</td>\n",
              "      <td>0.238782</td>\n",
              "      <td>0.214174</td>\n",
              "      <td>0.500835</td>\n",
              "    </tr>\n",
              "    <tr>\n",
              "      <th>min</th>\n",
              "      <td>0.112605</td>\n",
              "      <td>0.361477</td>\n",
              "      <td>0.275235</td>\n",
              "      <td>0.297676</td>\n",
              "      <td>0.000000</td>\n",
              "    </tr>\n",
              "    <tr>\n",
              "      <th>25%</th>\n",
              "      <td>0.817970</td>\n",
              "      <td>0.872916</td>\n",
              "      <td>0.831546</td>\n",
              "      <td>0.885946</td>\n",
              "      <td>0.000000</td>\n",
              "    </tr>\n",
              "    <tr>\n",
              "      <th>50%</th>\n",
              "      <td>0.992419</td>\n",
              "      <td>0.978608</td>\n",
              "      <td>0.982293</td>\n",
              "      <td>1.007222</td>\n",
              "      <td>0.500000</td>\n",
              "    </tr>\n",
              "    <tr>\n",
              "      <th>75%</th>\n",
              "      <td>1.155689</td>\n",
              "      <td>1.115385</td>\n",
              "      <td>1.143743</td>\n",
              "      <td>1.136795</td>\n",
              "      <td>1.000000</td>\n",
              "    </tr>\n",
              "    <tr>\n",
              "      <th>max</th>\n",
              "      <td>1.817953</td>\n",
              "      <td>1.821522</td>\n",
              "      <td>1.594692</td>\n",
              "      <td>1.615540</td>\n",
              "      <td>1.000000</td>\n",
              "    </tr>\n",
              "  </tbody>\n",
              "</table>\n",
              "</div>"
            ],
            "text/plain": [
              "               X1          X2          X3          X4           Y\n",
              "count  300.000000  300.000000  300.000000  300.000000  300.000000\n",
              "mean     0.984215    0.997026    0.975882    1.009829    0.500000\n",
              "std      0.269708    0.218569    0.238782    0.214174    0.500835\n",
              "min      0.112605    0.361477    0.275235    0.297676    0.000000\n",
              "25%      0.817970    0.872916    0.831546    0.885946    0.000000\n",
              "50%      0.992419    0.978608    0.982293    1.007222    0.500000\n",
              "75%      1.155689    1.115385    1.143743    1.136795    1.000000\n",
              "max      1.817953    1.821522    1.594692    1.615540    1.000000"
            ]
          },
          "metadata": {},
          "execution_count": 13
        }
      ]
    },
    {
      "cell_type": "code",
      "metadata": {
        "colab": {
          "base_uri": "https://localhost:8080/"
        },
        "id": "srEm8UDVNuX7",
        "outputId": "bc580bfc-4b80-4f60-9ae1-6887e01fad8f"
      },
      "source": [
        "Balanced_AllF_overlap.skew()"
      ],
      "execution_count": null,
      "outputs": [
        {
          "output_type": "execute_result",
          "data": {
            "text/plain": [
              "X1   -0.080456\n",
              "X2    0.265152\n",
              "X3   -0.156417\n",
              "X4   -0.159887\n",
              "Y     0.000000\n",
              "dtype: float64"
            ]
          },
          "metadata": {},
          "execution_count": 14
        }
      ]
    },
    {
      "cell_type": "markdown",
      "metadata": {
        "id": "a-W8PHg8OIgD"
      },
      "source": [
        "2. Consistency analysis of **unbalanced** dataset with all 4 features overlapping"
      ]
    },
    {
      "cell_type": "code",
      "metadata": {
        "colab": {
          "base_uri": "https://localhost:8080/",
          "height": 297
        },
        "id": "CEDc_GCrOWwk",
        "outputId": "01df7a59-4ae1-4450-ad79-0ad8ad45685a"
      },
      "source": [
        "unbalanced_allF_overlap.describe()"
      ],
      "execution_count": null,
      "outputs": [
        {
          "output_type": "execute_result",
          "data": {
            "text/html": [
              "<div>\n",
              "<style scoped>\n",
              "    .dataframe tbody tr th:only-of-type {\n",
              "        vertical-align: middle;\n",
              "    }\n",
              "\n",
              "    .dataframe tbody tr th {\n",
              "        vertical-align: top;\n",
              "    }\n",
              "\n",
              "    .dataframe thead th {\n",
              "        text-align: right;\n",
              "    }\n",
              "</style>\n",
              "<table border=\"1\" class=\"dataframe\">\n",
              "  <thead>\n",
              "    <tr style=\"text-align: right;\">\n",
              "      <th></th>\n",
              "      <th>X1</th>\n",
              "      <th>X2</th>\n",
              "      <th>X3</th>\n",
              "      <th>X4</th>\n",
              "      <th>Y</th>\n",
              "    </tr>\n",
              "  </thead>\n",
              "  <tbody>\n",
              "    <tr>\n",
              "      <th>count</th>\n",
              "      <td>300.000000</td>\n",
              "      <td>300.000000</td>\n",
              "      <td>300.000000</td>\n",
              "      <td>300.000000</td>\n",
              "      <td>300.000000</td>\n",
              "    </tr>\n",
              "    <tr>\n",
              "      <th>mean</th>\n",
              "      <td>0.818889</td>\n",
              "      <td>1.221707</td>\n",
              "      <td>0.885161</td>\n",
              "      <td>0.813715</td>\n",
              "      <td>0.800000</td>\n",
              "    </tr>\n",
              "    <tr>\n",
              "      <th>std</th>\n",
              "      <td>0.239075</td>\n",
              "      <td>0.228633</td>\n",
              "      <td>0.258988</td>\n",
              "      <td>0.260760</td>\n",
              "      <td>0.400668</td>\n",
              "    </tr>\n",
              "    <tr>\n",
              "      <th>min</th>\n",
              "      <td>0.080868</td>\n",
              "      <td>0.548849</td>\n",
              "      <td>0.224936</td>\n",
              "      <td>0.020823</td>\n",
              "      <td>0.000000</td>\n",
              "    </tr>\n",
              "    <tr>\n",
              "      <th>25%</th>\n",
              "      <td>0.672422</td>\n",
              "      <td>1.070023</td>\n",
              "      <td>0.706794</td>\n",
              "      <td>0.625986</td>\n",
              "      <td>1.000000</td>\n",
              "    </tr>\n",
              "    <tr>\n",
              "      <th>50%</th>\n",
              "      <td>0.830488</td>\n",
              "      <td>1.229283</td>\n",
              "      <td>0.855104</td>\n",
              "      <td>0.810631</td>\n",
              "      <td>1.000000</td>\n",
              "    </tr>\n",
              "    <tr>\n",
              "      <th>75%</th>\n",
              "      <td>0.978032</td>\n",
              "      <td>1.363268</td>\n",
              "      <td>1.036426</td>\n",
              "      <td>0.991449</td>\n",
              "      <td>1.000000</td>\n",
              "    </tr>\n",
              "    <tr>\n",
              "      <th>max</th>\n",
              "      <td>1.538569</td>\n",
              "      <td>1.912698</td>\n",
              "      <td>1.884021</td>\n",
              "      <td>1.728664</td>\n",
              "      <td>1.000000</td>\n",
              "    </tr>\n",
              "  </tbody>\n",
              "</table>\n",
              "</div>"
            ],
            "text/plain": [
              "               X1          X2          X3          X4           Y\n",
              "count  300.000000  300.000000  300.000000  300.000000  300.000000\n",
              "mean     0.818889    1.221707    0.885161    0.813715    0.800000\n",
              "std      0.239075    0.228633    0.258988    0.260760    0.400668\n",
              "min      0.080868    0.548849    0.224936    0.020823    0.000000\n",
              "25%      0.672422    1.070023    0.706794    0.625986    1.000000\n",
              "50%      0.830488    1.229283    0.855104    0.810631    1.000000\n",
              "75%      0.978032    1.363268    1.036426    0.991449    1.000000\n",
              "max      1.538569    1.912698    1.884021    1.728664    1.000000"
            ]
          },
          "metadata": {},
          "execution_count": 15
        }
      ]
    },
    {
      "cell_type": "code",
      "metadata": {
        "colab": {
          "base_uri": "https://localhost:8080/"
        },
        "id": "RZQ1G3TROdKU",
        "outputId": "580de2da-591d-40e1-8df9-d16ea3f0bbf0"
      },
      "source": [
        "unbalanced_allF_overlap.skew()"
      ],
      "execution_count": null,
      "outputs": [
        {
          "output_type": "execute_result",
          "data": {
            "text/plain": [
              "X1   -0.137918\n",
              "X2    0.008775\n",
              "X3    0.496669\n",
              "X4    0.074451\n",
              "Y    -1.507548\n",
              "dtype: float64"
            ]
          },
          "metadata": {},
          "execution_count": 16
        }
      ]
    },
    {
      "cell_type": "markdown",
      "metadata": {
        "id": "wHijSaKhPVyz"
      },
      "source": [
        "The skewness of the features in both cases indicates that the class boundaries are not very distinct, thus making classification more challenging. "
      ]
    },
    {
      "cell_type": "markdown",
      "metadata": {
        "id": "h2XuI6sUQGR9"
      },
      "source": [
        "3. Principal component analysis of balanced dataset with all features overlapping. "
      ]
    },
    {
      "cell_type": "code",
      "metadata": {
        "id": "LqA3NzTpYym2",
        "colab": {
          "base_uri": "https://localhost:8080/",
          "height": 204
        },
        "outputId": "b16b6942-0dfc-45cf-958d-0fc8eb14b635"
      },
      "source": [
        "features = ['X1','X2','X3','X4']\n",
        "x = Balanced_AllF_overlap.loc[:, features].values\n",
        "x = StandardScaler().fit_transform(x)\n",
        "pd.DataFrame(data = x, columns = features).head()"
      ],
      "execution_count": null,
      "outputs": [
        {
          "output_type": "execute_result",
          "data": {
            "text/html": [
              "<div>\n",
              "<style scoped>\n",
              "    .dataframe tbody tr th:only-of-type {\n",
              "        vertical-align: middle;\n",
              "    }\n",
              "\n",
              "    .dataframe tbody tr th {\n",
              "        vertical-align: top;\n",
              "    }\n",
              "\n",
              "    .dataframe thead th {\n",
              "        text-align: right;\n",
              "    }\n",
              "</style>\n",
              "<table border=\"1\" class=\"dataframe\">\n",
              "  <thead>\n",
              "    <tr style=\"text-align: right;\">\n",
              "      <th></th>\n",
              "      <th>X1</th>\n",
              "      <th>X2</th>\n",
              "      <th>X3</th>\n",
              "      <th>X4</th>\n",
              "    </tr>\n",
              "  </thead>\n",
              "  <tbody>\n",
              "    <tr>\n",
              "      <th>0</th>\n",
              "      <td>0.800117</td>\n",
              "      <td>1.196404</td>\n",
              "      <td>0.029285</td>\n",
              "      <td>-0.044495</td>\n",
              "    </tr>\n",
              "    <tr>\n",
              "      <th>1</th>\n",
              "      <td>0.814772</td>\n",
              "      <td>0.318165</td>\n",
              "      <td>-1.850527</td>\n",
              "      <td>-0.170702</td>\n",
              "    </tr>\n",
              "    <tr>\n",
              "      <th>2</th>\n",
              "      <td>0.416745</td>\n",
              "      <td>0.859367</td>\n",
              "      <td>1.333230</td>\n",
              "      <td>1.736665</td>\n",
              "    </tr>\n",
              "    <tr>\n",
              "      <th>3</th>\n",
              "      <td>-0.096859</td>\n",
              "      <td>-0.428794</td>\n",
              "      <td>-0.238741</td>\n",
              "      <td>-1.314712</td>\n",
              "    </tr>\n",
              "    <tr>\n",
              "      <th>4</th>\n",
              "      <td>0.839079</td>\n",
              "      <td>0.741537</td>\n",
              "      <td>0.775930</td>\n",
              "      <td>1.337607</td>\n",
              "    </tr>\n",
              "  </tbody>\n",
              "</table>\n",
              "</div>"
            ],
            "text/plain": [
              "         X1        X2        X3        X4\n",
              "0  0.800117  1.196404  0.029285 -0.044495\n",
              "1  0.814772  0.318165 -1.850527 -0.170702\n",
              "2  0.416745  0.859367  1.333230  1.736665\n",
              "3 -0.096859 -0.428794 -0.238741 -1.314712\n",
              "4  0.839079  0.741537  0.775930  1.337607"
            ]
          },
          "metadata": {},
          "execution_count": 19
        }
      ]
    },
    {
      "cell_type": "code",
      "metadata": {
        "colab": {
          "base_uri": "https://localhost:8080/",
          "height": 204
        },
        "id": "_6k4-fxo59nq",
        "outputId": "dc9747cb-ccfe-4579-95d6-d48e10b684a4"
      },
      "source": [
        "pca = PCA(n_components= 4)\n",
        "principalComponents = pca.fit_transform(x)\n",
        "pca_df = pd.DataFrame(data = principalComponents, columns = ['Component 1', 'Component 2', 'Component 3', 'Component 4'])\n",
        "pca_df.head()"
      ],
      "execution_count": null,
      "outputs": [
        {
          "output_type": "execute_result",
          "data": {
            "text/html": [
              "<div>\n",
              "<style scoped>\n",
              "    .dataframe tbody tr th:only-of-type {\n",
              "        vertical-align: middle;\n",
              "    }\n",
              "\n",
              "    .dataframe tbody tr th {\n",
              "        vertical-align: top;\n",
              "    }\n",
              "\n",
              "    .dataframe thead th {\n",
              "        text-align: right;\n",
              "    }\n",
              "</style>\n",
              "<table border=\"1\" class=\"dataframe\">\n",
              "  <thead>\n",
              "    <tr style=\"text-align: right;\">\n",
              "      <th></th>\n",
              "      <th>Component 1</th>\n",
              "      <th>Component 2</th>\n",
              "      <th>Component 3</th>\n",
              "      <th>Component 4</th>\n",
              "    </tr>\n",
              "  </thead>\n",
              "  <tbody>\n",
              "    <tr>\n",
              "      <th>0</th>\n",
              "      <td>1.072513</td>\n",
              "      <td>-0.800458</td>\n",
              "      <td>0.495719</td>\n",
              "      <td>0.194035</td>\n",
              "    </tr>\n",
              "    <tr>\n",
              "      <th>1</th>\n",
              "      <td>-0.445672</td>\n",
              "      <td>-1.199168</td>\n",
              "      <td>1.354960</td>\n",
              "      <td>-0.863787</td>\n",
              "    </tr>\n",
              "    <tr>\n",
              "      <th>2</th>\n",
              "      <td>2.074759</td>\n",
              "      <td>1.177914</td>\n",
              "      <td>0.103649</td>\n",
              "      <td>-0.053349</td>\n",
              "    </tr>\n",
              "    <tr>\n",
              "      <th>3</th>\n",
              "      <td>-0.931819</td>\n",
              "      <td>-0.853194</td>\n",
              "      <td>-0.555431</td>\n",
              "      <td>0.271996</td>\n",
              "    </tr>\n",
              "    <tr>\n",
              "      <th>4</th>\n",
              "      <td>1.774130</td>\n",
              "      <td>0.523916</td>\n",
              "      <td>0.237242</td>\n",
              "      <td>-0.408513</td>\n",
              "    </tr>\n",
              "  </tbody>\n",
              "</table>\n",
              "</div>"
            ],
            "text/plain": [
              "   Component 1  Component 2  Component 3  Component 4\n",
              "0     1.072513    -0.800458     0.495719     0.194035\n",
              "1    -0.445672    -1.199168     1.354960    -0.863787\n",
              "2     2.074759     1.177914     0.103649    -0.053349\n",
              "3    -0.931819    -0.853194    -0.555431     0.271996\n",
              "4     1.774130     0.523916     0.237242    -0.408513"
            ]
          },
          "metadata": {},
          "execution_count": 20
        }
      ]
    },
    {
      "cell_type": "code",
      "metadata": {
        "colab": {
          "base_uri": "https://localhost:8080/",
          "height": 173
        },
        "id": "ME2XTgMS65CS",
        "outputId": "7a46cd15-7e63-45b5-e7fc-f18e23686c32"
      },
      "source": [
        "B = pd.DataFrame([\"Component 1\", \"Component 2\",\"Component 3\",\"Component 4\"], columns = [\"Component\"])\n",
        "Bdf = pd.DataFrame(pca.explained_variance_ratio_ * 100, columns= [\"Perc_of_Variance\"])\n",
        "Bdf = pd.concat([B, Bdf], axis = 1)\n",
        "Bd = Bdf.Perc_of_Variance.values\n",
        "Bd1= [0,0,0,0]\n",
        "for i in range(0,4):\n",
        "  if i == 0 :\n",
        "    Bd1[i] = Bd[i]\n",
        "  else:\n",
        "    Bd1[i] = Bd[i] + Bd1[i-1] \n",
        "Bdf['Cumulative_Perc'] = Bd1\n",
        "Bdf.head()"
      ],
      "execution_count": null,
      "outputs": [
        {
          "output_type": "execute_result",
          "data": {
            "text/html": [
              "<div>\n",
              "<style scoped>\n",
              "    .dataframe tbody tr th:only-of-type {\n",
              "        vertical-align: middle;\n",
              "    }\n",
              "\n",
              "    .dataframe tbody tr th {\n",
              "        vertical-align: top;\n",
              "    }\n",
              "\n",
              "    .dataframe thead th {\n",
              "        text-align: right;\n",
              "    }\n",
              "</style>\n",
              "<table border=\"1\" class=\"dataframe\">\n",
              "  <thead>\n",
              "    <tr style=\"text-align: right;\">\n",
              "      <th></th>\n",
              "      <th>Component</th>\n",
              "      <th>Perc_of_Variance</th>\n",
              "      <th>Cumulative_Perc</th>\n",
              "    </tr>\n",
              "  </thead>\n",
              "  <tbody>\n",
              "    <tr>\n",
              "      <th>0</th>\n",
              "      <td>Component 1</td>\n",
              "      <td>60.658915</td>\n",
              "      <td>60.658915</td>\n",
              "    </tr>\n",
              "    <tr>\n",
              "      <th>1</th>\n",
              "      <td>Component 2</td>\n",
              "      <td>25.328284</td>\n",
              "      <td>85.987198</td>\n",
              "    </tr>\n",
              "    <tr>\n",
              "      <th>2</th>\n",
              "      <td>Component 3</td>\n",
              "      <td>10.959721</td>\n",
              "      <td>96.946920</td>\n",
              "    </tr>\n",
              "    <tr>\n",
              "      <th>3</th>\n",
              "      <td>Component 4</td>\n",
              "      <td>3.053080</td>\n",
              "      <td>100.000000</td>\n",
              "    </tr>\n",
              "  </tbody>\n",
              "</table>\n",
              "</div>"
            ],
            "text/plain": [
              "     Component  Perc_of_Variance  Cumulative_Perc\n",
              "0  Component 1         60.658915        60.658915\n",
              "1  Component 2         25.328284        85.987198\n",
              "2  Component 3         10.959721        96.946920\n",
              "3  Component 4          3.053080       100.000000"
            ]
          },
          "metadata": {},
          "execution_count": 54
        }
      ]
    },
    {
      "cell_type": "markdown",
      "metadata": {
        "id": "mt9YixhBEGlU"
      },
      "source": [
        "4. Principal component analysis of **unbalanced** dataset with all features overlapping. "
      ]
    },
    {
      "cell_type": "code",
      "metadata": {
        "colab": {
          "base_uri": "https://localhost:8080/",
          "height": 204
        },
        "id": "JZZ5thbEEaQI",
        "outputId": "2801a1ea-0ecf-4034-8ed8-0862a9ea9201"
      },
      "source": [
        "features = ['X1','X2','X3','X4']\n",
        "x = unbalanced_allF_overlap.loc[:, features].values\n",
        "x = StandardScaler().fit_transform(x)\n",
        "pd.DataFrame(data = x, columns = features).head()"
      ],
      "execution_count": null,
      "outputs": [
        {
          "output_type": "execute_result",
          "data": {
            "text/html": [
              "<div>\n",
              "<style scoped>\n",
              "    .dataframe tbody tr th:only-of-type {\n",
              "        vertical-align: middle;\n",
              "    }\n",
              "\n",
              "    .dataframe tbody tr th {\n",
              "        vertical-align: top;\n",
              "    }\n",
              "\n",
              "    .dataframe thead th {\n",
              "        text-align: right;\n",
              "    }\n",
              "</style>\n",
              "<table border=\"1\" class=\"dataframe\">\n",
              "  <thead>\n",
              "    <tr style=\"text-align: right;\">\n",
              "      <th></th>\n",
              "      <th>X1</th>\n",
              "      <th>X2</th>\n",
              "      <th>X3</th>\n",
              "      <th>X4</th>\n",
              "    </tr>\n",
              "  </thead>\n",
              "  <tbody>\n",
              "    <tr>\n",
              "      <th>0</th>\n",
              "      <td>-0.914255</td>\n",
              "      <td>1.503730</td>\n",
              "      <td>0.367788</td>\n",
              "      <td>-0.024323</td>\n",
              "    </tr>\n",
              "    <tr>\n",
              "      <th>1</th>\n",
              "      <td>-1.755542</td>\n",
              "      <td>1.758760</td>\n",
              "      <td>1.502711</td>\n",
              "      <td>-1.733837</td>\n",
              "    </tr>\n",
              "    <tr>\n",
              "      <th>2</th>\n",
              "      <td>-0.584866</td>\n",
              "      <td>0.035396</td>\n",
              "      <td>2.460938</td>\n",
              "      <td>0.211248</td>\n",
              "    </tr>\n",
              "    <tr>\n",
              "      <th>3</th>\n",
              "      <td>1.208885</td>\n",
              "      <td>-0.158833</td>\n",
              "      <td>2.009902</td>\n",
              "      <td>0.690207</td>\n",
              "    </tr>\n",
              "    <tr>\n",
              "      <th>4</th>\n",
              "      <td>0.156440</td>\n",
              "      <td>0.772606</td>\n",
              "      <td>1.663667</td>\n",
              "      <td>0.602989</td>\n",
              "    </tr>\n",
              "  </tbody>\n",
              "</table>\n",
              "</div>"
            ],
            "text/plain": [
              "         X1        X2        X3        X4\n",
              "0 -0.914255  1.503730  0.367788 -0.024323\n",
              "1 -1.755542  1.758760  1.502711 -1.733837\n",
              "2 -0.584866  0.035396  2.460938  0.211248\n",
              "3  1.208885 -0.158833  2.009902  0.690207\n",
              "4  0.156440  0.772606  1.663667  0.602989"
            ]
          },
          "metadata": {},
          "execution_count": 55
        }
      ]
    },
    {
      "cell_type": "code",
      "metadata": {
        "colab": {
          "base_uri": "https://localhost:8080/",
          "height": 204
        },
        "id": "uvRhbGC4Enzc",
        "outputId": "0a0b1440-2e8a-4aa9-f758-924068da7eaa"
      },
      "source": [
        "pca = PCA(n_components= 4)\n",
        "principalComponents = pca.fit_transform(x)\n",
        "pca_df = pd.DataFrame(data = principalComponents, columns = ['Component 1', 'Component 2', 'Component 3', 'Component 4'])\n",
        "pca_df.head()"
      ],
      "execution_count": null,
      "outputs": [
        {
          "output_type": "execute_result",
          "data": {
            "text/html": [
              "<div>\n",
              "<style scoped>\n",
              "    .dataframe tbody tr th:only-of-type {\n",
              "        vertical-align: middle;\n",
              "    }\n",
              "\n",
              "    .dataframe tbody tr th {\n",
              "        vertical-align: top;\n",
              "    }\n",
              "\n",
              "    .dataframe thead th {\n",
              "        text-align: right;\n",
              "    }\n",
              "</style>\n",
              "<table border=\"1\" class=\"dataframe\">\n",
              "  <thead>\n",
              "    <tr style=\"text-align: right;\">\n",
              "      <th></th>\n",
              "      <th>Component 1</th>\n",
              "      <th>Component 2</th>\n",
              "      <th>Component 3</th>\n",
              "      <th>Component 4</th>\n",
              "    </tr>\n",
              "  </thead>\n",
              "  <tbody>\n",
              "    <tr>\n",
              "      <th>0</th>\n",
              "      <td>-0.679441</td>\n",
              "      <td>1.051787</td>\n",
              "      <td>-0.308369</td>\n",
              "      <td>-1.252971</td>\n",
              "    </tr>\n",
              "    <tr>\n",
              "      <th>1</th>\n",
              "      <td>-1.330368</td>\n",
              "      <td>3.057343</td>\n",
              "      <td>-0.055368</td>\n",
              "      <td>-0.564986</td>\n",
              "    </tr>\n",
              "    <tr>\n",
              "      <th>2</th>\n",
              "      <td>0.631596</td>\n",
              "      <td>1.756607</td>\n",
              "      <td>-1.682542</td>\n",
              "      <td>0.358651</td>\n",
              "    </tr>\n",
              "    <tr>\n",
              "      <th>3</th>\n",
              "      <td>0.258102</td>\n",
              "      <td>0.059625</td>\n",
              "      <td>-2.239620</td>\n",
              "      <td>0.957418</td>\n",
              "    </tr>\n",
              "    <tr>\n",
              "      <th>4</th>\n",
              "      <td>-0.077924</td>\n",
              "      <td>0.727596</td>\n",
              "      <td>-1.782730</td>\n",
              "      <td>-0.197941</td>\n",
              "    </tr>\n",
              "  </tbody>\n",
              "</table>\n",
              "</div>"
            ],
            "text/plain": [
              "   Component 1  Component 2  Component 3  Component 4\n",
              "0    -0.679441     1.051787    -0.308369    -1.252971\n",
              "1    -1.330368     3.057343    -0.055368    -0.564986\n",
              "2     0.631596     1.756607    -1.682542     0.358651\n",
              "3     0.258102     0.059625    -2.239620     0.957418\n",
              "4    -0.077924     0.727596    -1.782730    -0.197941"
            ]
          },
          "metadata": {},
          "execution_count": 56
        }
      ]
    },
    {
      "cell_type": "code",
      "metadata": {
        "colab": {
          "base_uri": "https://localhost:8080/",
          "height": 173
        },
        "id": "nd4khIojE1J0",
        "outputId": "fe81fec1-5971-4aba-cb7a-f3804ff0c718"
      },
      "source": [
        "B = pd.DataFrame([\"Component 1\", \"Component 2\",\"Component 3\",\"Component 4\"], columns = [\"Component\"])\n",
        "Bdf = pd.DataFrame(pca.explained_variance_ratio_ * 100, columns= [\"Perc_of_Variance\"])\n",
        "Bdf = pd.concat([B, Bdf], axis = 1)\n",
        "Bd = Bdf.Perc_of_Variance.values\n",
        "Bd1= [0,0,0,0]\n",
        "for i in range(0,4):\n",
        "  if i == 0 :\n",
        "    Bd1[i] = Bd[i]\n",
        "  else:\n",
        "    Bd1[i] = Bd[i] + Bd1[i-1] \n",
        "Bdf['Cumulative_Perc'] = Bd1\n",
        "Bdf.head()"
      ],
      "execution_count": null,
      "outputs": [
        {
          "output_type": "execute_result",
          "data": {
            "text/html": [
              "<div>\n",
              "<style scoped>\n",
              "    .dataframe tbody tr th:only-of-type {\n",
              "        vertical-align: middle;\n",
              "    }\n",
              "\n",
              "    .dataframe tbody tr th {\n",
              "        vertical-align: top;\n",
              "    }\n",
              "\n",
              "    .dataframe thead th {\n",
              "        text-align: right;\n",
              "    }\n",
              "</style>\n",
              "<table border=\"1\" class=\"dataframe\">\n",
              "  <thead>\n",
              "    <tr style=\"text-align: right;\">\n",
              "      <th></th>\n",
              "      <th>Component</th>\n",
              "      <th>Perc_of_Variance</th>\n",
              "      <th>Cumulative_Perc</th>\n",
              "    </tr>\n",
              "  </thead>\n",
              "  <tbody>\n",
              "    <tr>\n",
              "      <th>0</th>\n",
              "      <td>Component 1</td>\n",
              "      <td>36.107030</td>\n",
              "      <td>36.107030</td>\n",
              "    </tr>\n",
              "    <tr>\n",
              "      <th>1</th>\n",
              "      <td>Component 2</td>\n",
              "      <td>28.894966</td>\n",
              "      <td>65.001995</td>\n",
              "    </tr>\n",
              "    <tr>\n",
              "      <th>2</th>\n",
              "      <td>Component 3</td>\n",
              "      <td>24.916998</td>\n",
              "      <td>89.918993</td>\n",
              "    </tr>\n",
              "    <tr>\n",
              "      <th>3</th>\n",
              "      <td>Component 4</td>\n",
              "      <td>10.081007</td>\n",
              "      <td>100.000000</td>\n",
              "    </tr>\n",
              "  </tbody>\n",
              "</table>\n",
              "</div>"
            ],
            "text/plain": [
              "     Component  Perc_of_Variance  Cumulative_Perc\n",
              "0  Component 1         36.107030        36.107030\n",
              "1  Component 2         28.894966        65.001995\n",
              "2  Component 3         24.916998        89.918993\n",
              "3  Component 4         10.081007       100.000000"
            ]
          },
          "metadata": {},
          "execution_count": 57
        }
      ]
    },
    {
      "cell_type": "markdown",
      "metadata": {
        "id": "pNbKoKJCE5P6"
      },
      "source": [
        "For balanced data, the first component explains ~60.66% of the\n",
        "total variance, the second component explains ~25.33%, and the fourth one represents ~3.05% of the variance. The PCA for unbalanced dataset, however, indicated that the first PCA component explains only ~36.1% of the variance, the second one ~28.9%, and the fourth one accounted for 10.1% of\n",
        "the variance. This provides an idea about the difference in the distribution of the balanced and unbalanced sets with full overlapping. "
      ]
    },
    {
      "cell_type": "markdown",
      "metadata": {
        "id": "5_6ClV3ILA3u"
      },
      "source": [
        "**Using 10-fold Cross-Validation to evaluate the models and ultimately compare the performance of different datasets.**"
      ]
    },
    {
      "cell_type": "code",
      "metadata": {
        "id": "hMSXWv2mLUil"
      },
      "source": [
        "Kfold = KFold(10, True)\n",
        "overall_acc = []\n",
        "overall_prec = []\n",
        "overall_rec = []\n",
        "sc = []"
      ],
      "execution_count": null,
      "outputs": []
    },
    {
      "cell_type": "markdown",
      "metadata": {
        "id": "6EPtyrM0cn6o"
      },
      "source": [
        "5. **Running SVM classifier using 10-fold cross validation for balanced and unbalanced datasets with varying degrees of overlapping**"
      ]
    },
    {
      "cell_type": "markdown",
      "metadata": {
        "id": "dbd_HSTGhOtS"
      },
      "source": [
        "5.1: **Balanced dataset with 1 feature overlap**"
      ]
    },
    {
      "cell_type": "code",
      "metadata": {
        "id": "kcbNoSiChZza"
      },
      "source": [
        "accuracies = []\n",
        "precisions = []\n",
        "recalls = []\n",
        "\n",
        "features = ['X1','X2','X3','X4']\n",
        "x = Balanced_oneF_overlap.loc[:, features].values\n",
        "x = pd.DataFrame(data = x, columns = features)\n",
        "y = Balanced_oneF_overlap.Y\n",
        "scaler = MinMaxScaler(feature_range=(0, 1))\n",
        "x = scaler.fit_transform(x)"
      ],
      "execution_count": null,
      "outputs": []
    },
    {
      "cell_type": "code",
      "metadata": {
        "colab": {
          "base_uri": "https://localhost:8080/"
        },
        "id": "Fny1bYNshlVh",
        "outputId": "4ddffe7d-6db5-4a83-b238-a62dbbfb98db"
      },
      "source": [
        "clf = svm.SVC()\n",
        "for train_index, test_index in Kfold.split(x):\n",
        "  x_train, x_test, y_train, y_test = x[train_index], x[test_index], y[train_index], y[test_index]\n",
        "  clf.fit(x_train, y_train)\n",
        "  pred = clf.predict(x_test)\n",
        "  accuracies.append(metrics.accuracy_score(y_test, pred))\n",
        "  precisions.append(metrics.precision_score(y_test, pred))\n",
        "  recalls.append(metrics.recall_score(y_test, pred))\n",
        "print(\"Accuracy:\",mean(accuracies))\n",
        "print(\"Precision:\",mean(precisions))\n",
        "print(\"Recall:\",mean(recalls))\n",
        "overall_acc.append(mean(accuracies) * 100)\n",
        "overall_prec.append(mean(precisions) * 100)\n",
        "overall_rec.append(mean(recalls) * 100)\n",
        "sc.append(\"Balanced-1-F-overlap\")\n"
      ],
      "execution_count": null,
      "outputs": [
        {
          "output_type": "stream",
          "name": "stdout",
          "text": [
            "Accuracy: 1.0\n",
            "Precision: 1.0\n",
            "Recall: 1.0\n"
          ]
        }
      ]
    },
    {
      "cell_type": "markdown",
      "metadata": {
        "id": "woBdan84c-9w"
      },
      "source": [
        "5.2: **Unbalanced dataset with 1 feature overlap**"
      ]
    },
    {
      "cell_type": "code",
      "metadata": {
        "id": "yCDY1oZQPhSO"
      },
      "source": [
        "accuracies = []\n",
        "precisions = []\n",
        "recalls = []\n",
        "\n",
        "features = ['X1','X2','X3','X4']\n",
        "x = unbalanced_1F_overlap.loc[:, features].values\n",
        "x = pd.DataFrame(data = x, columns = features)\n",
        "y = unbalanced_1F_overlap.Y\n",
        "scaler = MinMaxScaler(feature_range=(0, 1))\n",
        "x = scaler.fit_transform(x)"
      ],
      "execution_count": null,
      "outputs": []
    },
    {
      "cell_type": "code",
      "metadata": {
        "colab": {
          "base_uri": "https://localhost:8080/"
        },
        "id": "eKJpRZt2OvW2",
        "outputId": "a5895c93-91da-4f13-eaa3-28a8ce963f55"
      },
      "source": [
        "clf = svm.SVC()\n",
        "for train_index, test_index in Kfold.split(x):\n",
        "  x_train, x_test, y_train, y_test = x[train_index], x[test_index], y[train_index], y[test_index]\n",
        "  clf.fit(x_train, y_train)\n",
        "  pred = clf.predict(x_test)\n",
        "  accuracies.append(metrics.accuracy_score(y_test, pred))\n",
        "  precisions.append(metrics.precision_score(y_test, pred))\n",
        "  recalls.append(metrics.recall_score(y_test, pred))\n",
        "print(\"Accuracy:\",mean(accuracies))\n",
        "print(\"Precision:\",mean(precisions))\n",
        "print(\"Recall:\",mean(recalls))\n",
        "overall_acc.append(mean(accuracies) * 100)\n",
        "overall_prec.append(mean(precisions) * 100)\n",
        "overall_rec.append(mean(recalls) * 100)\n",
        "sc.append(\"Unbalanced-1-F-overlap\")"
      ],
      "execution_count": null,
      "outputs": [
        {
          "output_type": "stream",
          "name": "stdout",
          "text": [
            "Accuracy: 1.0\n",
            "Precision: 1.0\n",
            "Recall: 1.0\n"
          ]
        }
      ]
    },
    {
      "cell_type": "markdown",
      "metadata": {
        "id": "kzZBskqRirx7"
      },
      "source": [
        "5.3: **Balanced dataset with 2 feature overlap**"
      ]
    },
    {
      "cell_type": "code",
      "metadata": {
        "id": "yC6Dc7eGlDNF"
      },
      "source": [
        "accuracies = []\n",
        "precisions = []\n",
        "recalls = []\n",
        "\n",
        "features = [' X1','X2','X3','X4']\n",
        "x = Balanced_2F_overlap.loc[:, features].values\n",
        "x = pd.DataFrame(data = x, columns = features)\n",
        "y = Balanced_2F_overlap.Y\n",
        "scaler = MinMaxScaler(feature_range=(0, 1))\n",
        "x = scaler.fit_transform(x)"
      ],
      "execution_count": null,
      "outputs": []
    },
    {
      "cell_type": "code",
      "metadata": {
        "colab": {
          "base_uri": "https://localhost:8080/"
        },
        "id": "upVxpBT8lC-R",
        "outputId": "3458f909-c1fb-4eb4-c3ee-ad50bcf714c9"
      },
      "source": [
        "clf = svm.SVC()\n",
        "for train_index, test_index in Kfold.split(x):\n",
        "  x_train, x_test, y_train, y_test = x[train_index], x[test_index], y[train_index], y[test_index]\n",
        "  clf.fit(x_train, y_train)\n",
        "  pred = clf.predict(x_test)\n",
        "  accuracies.append(metrics.accuracy_score(y_test, pred))\n",
        "  precisions.append(metrics.precision_score(y_test, pred))\n",
        "  recalls.append(metrics.recall_score(y_test, pred))\n",
        "print(\"Accuracy:\",mean(accuracies))\n",
        "print(\"Precision:\",mean(precisions))\n",
        "print(\"Recall:\",mean(recalls))\n",
        "overall_acc.append(mean(accuracies) * 100)\n",
        "overall_prec.append(mean(precisions) * 100)\n",
        "overall_rec.append(mean(recalls) * 100)\n",
        "sc.append(\"Balanced-2-F-overlap\")"
      ],
      "execution_count": null,
      "outputs": [
        {
          "output_type": "stream",
          "name": "stdout",
          "text": [
            "Accuracy: 1.0\n",
            "Precision: 1.0\n",
            "Recall: 1.0\n"
          ]
        }
      ]
    },
    {
      "cell_type": "markdown",
      "metadata": {
        "id": "y92XYPl_jbIh"
      },
      "source": [
        "5.4: **Balanced dataset with 3 feature overlap**"
      ]
    },
    {
      "cell_type": "code",
      "metadata": {
        "id": "o4O4JtQxmBSq"
      },
      "source": [
        "accuracies = []\n",
        "precisions = []\n",
        "recalls = []\n",
        "\n",
        "features = ['X1','X2','X3','X4']\n",
        "x = Balanced_3F_overlap.loc[:, features].values\n",
        "x = pd.DataFrame(data = x, columns = features)\n",
        "y = Balanced_3F_overlap.Y\n",
        "scaler = MinMaxScaler(feature_range=(0, 1))\n",
        "x = scaler.fit_transform(x)"
      ],
      "execution_count": null,
      "outputs": []
    },
    {
      "cell_type": "code",
      "metadata": {
        "colab": {
          "base_uri": "https://localhost:8080/"
        },
        "id": "2U3sQTl3mjTb",
        "outputId": "a0e11578-9ec8-4efc-ae69-dfec6d1a7d8d"
      },
      "source": [
        "clf = svm.SVC()\n",
        "for train_index, test_index in Kfold.split(x):\n",
        "  x_train, x_test, y_train, y_test = x[train_index], x[test_index], y[train_index], y[test_index]\n",
        "  clf.fit(x_train, y_train)\n",
        "  pred = clf.predict(x_test)\n",
        "  accuracies.append(metrics.accuracy_score(y_test, pred))\n",
        "  precisions.append(metrics.precision_score(y_test, pred))\n",
        "  recalls.append(metrics.recall_score(y_test, pred))\n",
        "print(\"Accuracy:\",mean(accuracies))\n",
        "print(\"Precision:\",mean(precisions))\n",
        "print(\"Recall:\",mean(recalls))\n",
        "overall_acc.append(mean(accuracies) * 100)\n",
        "overall_prec.append(mean(precisions) * 100)\n",
        "overall_rec.append(mean(recalls) * 100)\n",
        "sc.append(\"Balanced-3-F-overlap\")"
      ],
      "execution_count": null,
      "outputs": [
        {
          "output_type": "stream",
          "name": "stdout",
          "text": [
            "Accuracy: 1.0\n",
            "Precision: 1.0\n",
            "Recall: 1.0\n"
          ]
        }
      ]
    },
    {
      "cell_type": "markdown",
      "metadata": {
        "id": "BXZd3ouujuSr"
      },
      "source": [
        "5.5: **Unbalanced dataset with 3 feature overlap**"
      ]
    },
    {
      "cell_type": "code",
      "metadata": {
        "id": "4x9v8E3ymq07"
      },
      "source": [
        "accuracies = []\n",
        "precisions = []\n",
        "recalls = []\n",
        "\n",
        "features = ['X1','X2','X3','X4']\n",
        "x = unbalanced_3F_overlap.loc[:, features].values\n",
        "x = pd.DataFrame(data = x, columns = features)\n",
        "y = unbalanced_3F_overlap.Y\n",
        "scaler = MinMaxScaler(feature_range=(0, 1))\n",
        "x = scaler.fit_transform(x)"
      ],
      "execution_count": null,
      "outputs": []
    },
    {
      "cell_type": "code",
      "metadata": {
        "colab": {
          "base_uri": "https://localhost:8080/"
        },
        "id": "udVYYaBRmqq6",
        "outputId": "d59d4b0b-b6ec-47dd-aba8-eccb42d2d4c8"
      },
      "source": [
        "clf = svm.SVC()\n",
        "for train_index, test_index in Kfold.split(x):\n",
        "  x_train, x_test, y_train, y_test = x[train_index], x[test_index], y[train_index], y[test_index]\n",
        "  clf.fit(x_train, y_train)\n",
        "  pred = clf.predict(x_test)\n",
        "  accuracies.append(metrics.accuracy_score(y_test, pred))\n",
        "  precisions.append(metrics.precision_score(y_test, pred))\n",
        "  recalls.append(metrics.recall_score(y_test, pred))\n",
        "print(\"Accuracy:\",mean(accuracies))\n",
        "print(\"Precision:\",mean(precisions))\n",
        "print(\"Recall:\",mean(recalls))\n",
        "overall_acc.append(mean(accuracies) * 100)\n",
        "overall_prec.append(mean(precisions) * 100)\n",
        "overall_rec.append(mean(recalls) * 100)\n",
        "sc.append(\"Unbalanced-3-F-overlap\")"
      ],
      "execution_count": null,
      "outputs": [
        {
          "output_type": "stream",
          "name": "stdout",
          "text": [
            "Accuracy: 1.0\n",
            "Precision: 1.0\n",
            "Recall: 1.0\n"
          ]
        }
      ]
    },
    {
      "cell_type": "markdown",
      "metadata": {
        "id": "aVxCwzm0j1wK"
      },
      "source": [
        "5.6: **Balanced dataset with all feature overlap**"
      ]
    },
    {
      "cell_type": "code",
      "metadata": {
        "id": "OS967CTxm5tC"
      },
      "source": [
        "accuracies = []\n",
        "precisions = []\n",
        "recalls = []\n",
        "\n",
        "features = ['X1','X2','X3','X4']\n",
        "x = Balanced_AllF_overlap.loc[:, features].values\n",
        "x = pd.DataFrame(data = x, columns = features)\n",
        "y = Balanced_AllF_overlap.Y\n",
        "scaler = MinMaxScaler(feature_range=(0, 1))\n",
        "x = scaler.fit_transform(x)"
      ],
      "execution_count": null,
      "outputs": []
    },
    {
      "cell_type": "code",
      "metadata": {
        "colab": {
          "base_uri": "https://localhost:8080/"
        },
        "id": "9sihhGHzm5pq",
        "outputId": "ecf4ec8f-11a6-4835-89e7-b6726007383d"
      },
      "source": [
        "clf = svm.SVC()\n",
        "for train_index, test_index in Kfold.split(x):\n",
        "  x_train, x_test, y_train, y_test = x[train_index], x[test_index], y[train_index], y[test_index]\n",
        "  clf.fit(x_train, y_train)\n",
        "  pred = clf.predict(x_test)\n",
        "  accuracies.append(metrics.accuracy_score(y_test, pred))\n",
        "  precisions.append(metrics.precision_score(y_test, pred))\n",
        "  recalls.append(metrics.recall_score(y_test, pred))\n",
        "print(\"Accuracy:\",mean(accuracies))\n",
        "print(\"Precision:\",mean(precisions))\n",
        "print(\"Recall:\",mean(recalls))\n",
        "overall_acc.append(mean(accuracies) * 100)\n",
        "overall_prec.append(mean(precisions) * 100)\n",
        "overall_rec.append(mean(recalls) * 100)\n",
        "sc.append(\"Balanced-all-F-overlap\")"
      ],
      "execution_count": null,
      "outputs": [
        {
          "output_type": "stream",
          "name": "stdout",
          "text": [
            "Accuracy: 0.8066666666666669\n",
            "Precision: 0.7388466431229588\n",
            "Recall: 0.9467565359477124\n"
          ]
        }
      ]
    },
    {
      "cell_type": "markdown",
      "metadata": {
        "id": "iBn_5uqej-8q"
      },
      "source": [
        "5.7: **Unbalanced dataset with all feature overlap**"
      ]
    },
    {
      "cell_type": "code",
      "metadata": {
        "id": "Nwn481DHnPjb"
      },
      "source": [
        "accuracies = []\n",
        "precisions = []\n",
        "recalls = []\n",
        "\n",
        "features = ['X1','X2','X3','X4']\n",
        "x = unbalanced_allF_overlap.loc[:, features].values\n",
        "x = pd.DataFrame(data = x, columns = features)\n",
        "y = unbalanced_allF_overlap.Y\n",
        "scaler = MinMaxScaler(feature_range=(0, 1))\n",
        "x = scaler.fit_transform(x)"
      ],
      "execution_count": null,
      "outputs": []
    },
    {
      "cell_type": "code",
      "metadata": {
        "colab": {
          "base_uri": "https://localhost:8080/"
        },
        "id": "IXgu-Qh0nPg7",
        "outputId": "80284041-a5b6-4e81-b39e-374355f4b5ed"
      },
      "source": [
        "clf = svm.SVC()\n",
        "for train_index, test_index in Kfold.split(x):\n",
        "  x_train, x_test, y_train, y_test = x[train_index], x[test_index], y[train_index], y[test_index]\n",
        "  clf.fit(x_train, y_train)\n",
        "  pred = clf.predict(x_test)\n",
        "  accuracies.append(metrics.accuracy_score(y_test, pred))\n",
        "  precisions.append(metrics.precision_score(y_test, pred))\n",
        "  recalls.append(metrics.recall_score(y_test, pred))\n",
        "print(\"Accuracy:\",mean(accuracies))\n",
        "print(\"Precision:\",mean(precisions))\n",
        "print(\"Recall:\",mean(recalls))\n",
        "overall_acc.append(mean(accuracies) * 100)\n",
        "overall_prec.append(mean(precisions) * 100)\n",
        "overall_rec.append(mean(recalls) * 100)\n",
        "sc.append(\"Unbalanced-all-F-overlap\")"
      ],
      "execution_count": null,
      "outputs": [
        {
          "output_type": "stream",
          "name": "stdout",
          "text": [
            "Accuracy: 0.9533333333333334\n",
            "Precision: 0.9589180602006688\n",
            "Recall: 0.9827898550724636\n"
          ]
        }
      ]
    },
    {
      "cell_type": "markdown",
      "metadata": {
        "id": "H5gK_lFmkHsS"
      },
      "source": [
        "5.8: **Balanced dataset with no feature overlap**"
      ]
    },
    {
      "cell_type": "code",
      "metadata": {
        "id": "_NtdxhUUnb_K"
      },
      "source": [
        "accuracies = []\n",
        "precisions = []\n",
        "recalls = []\n",
        "\n",
        "features = [' X1','X2','X3','X4']\n",
        "x = Balanced_noF_overlap.loc[:, features].values\n",
        "x = pd.DataFrame(data = x, columns = features)\n",
        "y = Balanced_noF_overlap.Y\n",
        "scaler = MinMaxScaler(feature_range=(0, 1))\n",
        "x = scaler.fit_transform(x)"
      ],
      "execution_count": null,
      "outputs": []
    },
    {
      "cell_type": "code",
      "metadata": {
        "colab": {
          "base_uri": "https://localhost:8080/"
        },
        "id": "p08QgRawnb1s",
        "outputId": "0b6ddf21-0918-490c-8fcb-31485abd336b"
      },
      "source": [
        "clf = svm.SVC()\n",
        "for train_index, test_index in Kfold.split(x):\n",
        "  x_train, x_test, y_train, y_test = x[train_index], x[test_index], y[train_index], y[test_index]\n",
        "  clf.fit(x_train, y_train)\n",
        "  pred = clf.predict(x_test)\n",
        "  accuracies.append(metrics.accuracy_score(y_test, pred))\n",
        "  precisions.append(metrics.precision_score(y_test, pred))\n",
        "  recalls.append(metrics.recall_score(y_test, pred))\n",
        "print(\"Accuracy:\",mean(accuracies))\n",
        "print(\"Precision:\",mean(precisions))\n",
        "print(\"Recall:\",mean(recalls))\n",
        "overall_acc.append(mean(accuracies) * 100)\n",
        "overall_prec.append(mean(precisions) * 100)\n",
        "overall_rec.append(mean(recalls) * 100)\n",
        "sc.append(\"Balanced-no-F-overlap\")"
      ],
      "execution_count": null,
      "outputs": [
        {
          "output_type": "stream",
          "name": "stdout",
          "text": [
            "Accuracy: 1.0\n",
            "Precision: 1.0\n",
            "Recall: 1.0\n"
          ]
        }
      ]
    },
    {
      "cell_type": "markdown",
      "metadata": {
        "id": "TGykGZ9UkNii"
      },
      "source": [
        "5.9: **Unbalanced dataset with no feature overlap**"
      ]
    },
    {
      "cell_type": "code",
      "metadata": {
        "id": "xcqiHqp6nqZD"
      },
      "source": [
        "accuracies = []\n",
        "precisions = []\n",
        "recalls = []\n",
        "\n",
        "features = [' X1','X2','X3','X4']\n",
        "x = unbalanced_noF_overlap.loc[:, features].values\n",
        "x = pd.DataFrame(data = x, columns = features)\n",
        "y = unbalanced_noF_overlap.Y\n",
        "scaler = MinMaxScaler(feature_range=(0, 1))\n",
        "x = scaler.fit_transform(x)"
      ],
      "execution_count": null,
      "outputs": []
    },
    {
      "cell_type": "code",
      "metadata": {
        "colab": {
          "base_uri": "https://localhost:8080/"
        },
        "id": "f65NsiCznqWb",
        "outputId": "22c55b86-ffc8-4f22-b59f-d25ab2436e21"
      },
      "source": [
        "clf = svm.SVC()\n",
        "for train_index, test_index in Kfold.split(x):\n",
        "  x_train, x_test, y_train, y_test = x[train_index], x[test_index], y[train_index], y[test_index]\n",
        "  clf.fit(x_train, y_train)\n",
        "  pred = clf.predict(x_test)\n",
        "  accuracies.append(metrics.accuracy_score(y_test, pred))\n",
        "  precisions.append(metrics.precision_score(y_test, pred))\n",
        "  recalls.append(metrics.recall_score(y_test, pred))\n",
        "print(\"Accuracy:\",mean(accuracies))\n",
        "print(\"Precision:\",mean(precisions))\n",
        "print(\"Recall:\",mean(recalls))\n",
        "overall_acc.append(mean(accuracies) * 100)\n",
        "overall_prec.append(mean(precisions) * 100)\n",
        "overall_rec.append(mean(recalls) * 100)\n",
        "sc.append(\"Unbalanced-no-F-overlap\")"
      ],
      "execution_count": null,
      "outputs": [
        {
          "output_type": "stream",
          "name": "stdout",
          "text": [
            "Accuracy: 1.0\n",
            "Precision: 1.0\n",
            "Recall: 1.0\n"
          ]
        }
      ]
    },
    {
      "cell_type": "markdown",
      "metadata": {
        "id": "-ysMVsg9r4Eb"
      },
      "source": [
        "Tabulating the results,"
      ]
    },
    {
      "cell_type": "code",
      "metadata": {
        "colab": {
          "base_uri": "https://localhost:8080/",
          "height": 328
        },
        "id": "sBdQem49r6eT",
        "outputId": "7d6d1f1b-7a13-40de-fea9-1f7968e0dfa3"
      },
      "source": [
        "SVM_Res = pd.DataFrame(list(zip(sc, overall_acc, overall_prec, overall_rec)), columns = ['SVM - Dataset nature','Accuracy%','Precision%','Recall%'])\n",
        "SVM_Res"
      ],
      "execution_count": null,
      "outputs": [
        {
          "output_type": "execute_result",
          "data": {
            "text/html": [
              "<div>\n",
              "<style scoped>\n",
              "    .dataframe tbody tr th:only-of-type {\n",
              "        vertical-align: middle;\n",
              "    }\n",
              "\n",
              "    .dataframe tbody tr th {\n",
              "        vertical-align: top;\n",
              "    }\n",
              "\n",
              "    .dataframe thead th {\n",
              "        text-align: right;\n",
              "    }\n",
              "</style>\n",
              "<table border=\"1\" class=\"dataframe\">\n",
              "  <thead>\n",
              "    <tr style=\"text-align: right;\">\n",
              "      <th></th>\n",
              "      <th>SVM - Dataset nature</th>\n",
              "      <th>Accuracy%</th>\n",
              "      <th>Precision%</th>\n",
              "      <th>Recall%</th>\n",
              "    </tr>\n",
              "  </thead>\n",
              "  <tbody>\n",
              "    <tr>\n",
              "      <th>0</th>\n",
              "      <td>Balanced-1-F-overlap</td>\n",
              "      <td>100.000000</td>\n",
              "      <td>100.000000</td>\n",
              "      <td>100.000000</td>\n",
              "    </tr>\n",
              "    <tr>\n",
              "      <th>1</th>\n",
              "      <td>Unbalanced-1-F-overlap</td>\n",
              "      <td>100.000000</td>\n",
              "      <td>100.000000</td>\n",
              "      <td>100.000000</td>\n",
              "    </tr>\n",
              "    <tr>\n",
              "      <th>2</th>\n",
              "      <td>Balanced-2-F-overlap</td>\n",
              "      <td>100.000000</td>\n",
              "      <td>100.000000</td>\n",
              "      <td>100.000000</td>\n",
              "    </tr>\n",
              "    <tr>\n",
              "      <th>3</th>\n",
              "      <td>Balanced-3-F-overlap</td>\n",
              "      <td>100.000000</td>\n",
              "      <td>100.000000</td>\n",
              "      <td>100.000000</td>\n",
              "    </tr>\n",
              "    <tr>\n",
              "      <th>4</th>\n",
              "      <td>Unbalanced-3-F-overlap</td>\n",
              "      <td>100.000000</td>\n",
              "      <td>100.000000</td>\n",
              "      <td>100.000000</td>\n",
              "    </tr>\n",
              "    <tr>\n",
              "      <th>5</th>\n",
              "      <td>Balanced-all-F-overlap</td>\n",
              "      <td>80.666667</td>\n",
              "      <td>73.884664</td>\n",
              "      <td>94.675654</td>\n",
              "    </tr>\n",
              "    <tr>\n",
              "      <th>6</th>\n",
              "      <td>Unbalanced-all-F-overlap</td>\n",
              "      <td>95.333333</td>\n",
              "      <td>95.891806</td>\n",
              "      <td>98.278986</td>\n",
              "    </tr>\n",
              "    <tr>\n",
              "      <th>7</th>\n",
              "      <td>Balanced-no-F-overlap</td>\n",
              "      <td>100.000000</td>\n",
              "      <td>100.000000</td>\n",
              "      <td>100.000000</td>\n",
              "    </tr>\n",
              "    <tr>\n",
              "      <th>8</th>\n",
              "      <td>Unbalanced-no-F-overlap</td>\n",
              "      <td>100.000000</td>\n",
              "      <td>100.000000</td>\n",
              "      <td>100.000000</td>\n",
              "    </tr>\n",
              "  </tbody>\n",
              "</table>\n",
              "</div>"
            ],
            "text/plain": [
              "       SVM - Dataset nature   Accuracy%  Precision%     Recall%\n",
              "0      Balanced-1-F-overlap  100.000000  100.000000  100.000000\n",
              "1    Unbalanced-1-F-overlap  100.000000  100.000000  100.000000\n",
              "2      Balanced-2-F-overlap  100.000000  100.000000  100.000000\n",
              "3      Balanced-3-F-overlap  100.000000  100.000000  100.000000\n",
              "4    Unbalanced-3-F-overlap  100.000000  100.000000  100.000000\n",
              "5    Balanced-all-F-overlap   80.666667   73.884664   94.675654\n",
              "6  Unbalanced-all-F-overlap   95.333333   95.891806   98.278986\n",
              "7     Balanced-no-F-overlap  100.000000  100.000000  100.000000\n",
              "8   Unbalanced-no-F-overlap  100.000000  100.000000  100.000000"
            ]
          },
          "metadata": {},
          "execution_count": 232
        }
      ]
    },
    {
      "cell_type": "markdown",
      "metadata": {
        "id": "kyrks8O9wI9V"
      },
      "source": [
        "6. **Running Decision tree classifier using 10-fold cross validation for balanced and unbalanced datasets with varying degrees of overlapping**"
      ]
    },
    {
      "cell_type": "code",
      "metadata": {
        "id": "ktiA2kKnwtQV"
      },
      "source": [
        "Kfold = KFold(10, True)\n"
      ],
      "execution_count": null,
      "outputs": []
    },
    {
      "cell_type": "markdown",
      "metadata": {
        "id": "c6N2B1obwaNO"
      },
      "source": [
        "6.1: **Balanced dataset with 1 feature overlap**"
      ]
    },
    {
      "cell_type": "markdown",
      "metadata": {
        "id": "KoErKCBhwaKE"
      },
      "source": [
        "6.2: **Unbalanced dataset with 1 feature overlap**"
      ]
    },
    {
      "cell_type": "markdown",
      "metadata": {
        "id": "QOnS86dHwaGk"
      },
      "source": [
        "6.3: **Balanced dataset with 2 feature overlap**"
      ]
    },
    {
      "cell_type": "markdown",
      "metadata": {
        "id": "cNuv7BLcwZ_U"
      },
      "source": [
        "6.4: **Balanced dataset with 3 feature overlap**"
      ]
    },
    {
      "cell_type": "markdown",
      "metadata": {
        "id": "32QVvGRrwZ51"
      },
      "source": [
        "6.5: **Unbalanced dataset with 3 feature overlap**"
      ]
    },
    {
      "cell_type": "markdown",
      "metadata": {
        "id": "mmwMeE6fwZxM"
      },
      "source": [
        "6.6: **Balanced dataset with all feature overlap**"
      ]
    },
    {
      "cell_type": "markdown",
      "metadata": {
        "id": "itd7lQgNwZkt"
      },
      "source": [
        "6.7: **Unbalanced dataset with all feature overlap**"
      ]
    },
    {
      "cell_type": "markdown",
      "metadata": {
        "id": "7HU902UhwZbE"
      },
      "source": [
        "6.8: **Balanced dataset with no feature overlap**"
      ]
    },
    {
      "cell_type": "markdown",
      "metadata": {
        "id": "uh6HPluKwZOE"
      },
      "source": [
        "6.9: **Unbalanced dataset with no feature overlap**"
      ]
    },
    {
      "cell_type": "markdown",
      "metadata": {
        "id": "y0DPvME1xofd"
      },
      "source": [
        "Tabulating the results,"
      ]
    },
    {
      "cell_type": "code",
      "metadata": {
        "id": "CmLbvdrVx-mM"
      },
      "source": [
        ""
      ],
      "execution_count": null,
      "outputs": []
    },
    {
      "cell_type": "markdown",
      "metadata": {
        "id": "btiqIkF9xxDU"
      },
      "source": [
        "7. **Running KNN (k = 3) classifier using 10-fold cross validation for balanced and unbalanced datasets with varying degrees of overlapping**"
      ]
    },
    {
      "cell_type": "code",
      "metadata": {
        "id": "svEsMzyoyWd0"
      },
      "source": [
        "Kfold = KFold(10, True)"
      ],
      "execution_count": null,
      "outputs": []
    },
    {
      "cell_type": "markdown",
      "metadata": {
        "id": "GMDfuj0mx6k9"
      },
      "source": [
        "7.1: **Balanced dataset with 1 feature overlap**"
      ]
    },
    {
      "cell_type": "markdown",
      "metadata": {
        "id": "-tDru_HIx6iV"
      },
      "source": [
        "7.2: **Unbalanced dataset with 1 feature overlap**"
      ]
    },
    {
      "cell_type": "markdown",
      "metadata": {
        "id": "uM1J4K5Vx6e9"
      },
      "source": [
        "7.3: **Balanced dataset with 2 feature overlap**"
      ]
    },
    {
      "cell_type": "markdown",
      "metadata": {
        "id": "cKdlPl3Yx6cW"
      },
      "source": [
        "7.4: **Balanced dataset with 3 feature overlap**"
      ]
    },
    {
      "cell_type": "markdown",
      "metadata": {
        "id": "XxrbhfHox6ZD"
      },
      "source": [
        "7.5: **Unbalanced dataset with 3 feature overlap**"
      ]
    },
    {
      "cell_type": "markdown",
      "metadata": {
        "id": "oU2FYY9Ux6VS"
      },
      "source": [
        "7.6: **Balanced dataset with all feature overlap**"
      ]
    },
    {
      "cell_type": "markdown",
      "metadata": {
        "id": "cnmBnOC-x6SQ"
      },
      "source": [
        "7.7: **Unbalanced dataset with all feature overlap**"
      ]
    },
    {
      "cell_type": "markdown",
      "metadata": {
        "id": "rJ5wuTexx6NE"
      },
      "source": [
        "7.8: **Balanced dataset with no feature overlap**"
      ]
    },
    {
      "cell_type": "markdown",
      "metadata": {
        "id": "sYYjlcLHx6I0"
      },
      "source": [
        "7.9: **Unbalanced dataset with no feature overlap**"
      ]
    },
    {
      "cell_type": "markdown",
      "metadata": {
        "id": "dtGWK1KSy9f0"
      },
      "source": [
        "Tabulating the results,"
      ]
    },
    {
      "cell_type": "code",
      "metadata": {
        "id": "gYk5Nsmzy-Md"
      },
      "source": [
        ""
      ],
      "execution_count": null,
      "outputs": []
    },
    {
      "cell_type": "markdown",
      "metadata": {
        "id": "s3Vhm3JR01Ol"
      },
      "source": [
        "8. **Oversampling an unbalanced dataset with all features overlapping using ADASYN\n",
        "algorithm, before running all three classifiers**"
      ]
    },
    {
      "cell_type": "code",
      "metadata": {
        "id": "7Gfp8cHY1PXn"
      },
      "source": [
        ""
      ],
      "execution_count": null,
      "outputs": []
    },
    {
      "cell_type": "markdown",
      "metadata": {
        "id": "CyOHvbzL1dY1"
      },
      "source": [
        "9. **Undersampling the majority class in an unbalanced dataset with all features overlapping\n",
        "using Random Under Sampler algorithm, before running all three classifiers.**"
      ]
    },
    {
      "cell_type": "code",
      "metadata": {
        "id": "jLsMoP5n5VNN"
      },
      "source": [
        ""
      ],
      "execution_count": null,
      "outputs": []
    },
    {
      "cell_type": "markdown",
      "metadata": {
        "id": "CnXnGuwizLZ9"
      },
      "source": [
        "**Inference:**"
      ]
    }
  ]
}